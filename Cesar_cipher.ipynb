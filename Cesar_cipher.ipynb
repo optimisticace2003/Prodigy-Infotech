{
  "nbformat": 4,
  "nbformat_minor": 0,
  "metadata": {
    "colab": {
      "provenance": [],
      "authorship_tag": "ABX9TyM1JzpT3My9UfV/tc3IToYw",
      "include_colab_link": true
    },
    "kernelspec": {
      "name": "python3",
      "display_name": "Python 3"
    },
    "language_info": {
      "name": "python"
    }
  },
  "cells": [
    {
      "cell_type": "markdown",
      "metadata": {
        "id": "view-in-github",
        "colab_type": "text"
      },
      "source": [
        "<a href=\"https://colab.research.google.com/github/optimisticace2003/Prodigy-Infotech/blob/main/Cesar_cipher.ipynb\" target=\"_parent\"><img src=\"https://colab.research.google.com/assets/colab-badge.svg\" alt=\"Open In Colab\"/></a>"
      ]
    },
    {
      "cell_type": "code",
      "execution_count": null,
      "metadata": {
        "colab": {
          "base_uri": "https://localhost:8080/"
        },
        "id": "Ovn5_kylq2Ae",
        "outputId": "c416cde6-a867-4acd-8385-d9b04bfbf541"
      },
      "outputs": [
        {
          "output_type": "stream",
          "name": "stdout",
          "text": [
            "Enter your password: test\n",
            "Password Strength: Very Weak\n",
            "Feedback:\n",
            "- Your password is very weak. It is highly recommended to change it.\n",
            "- Password should be at least 8 characters long.\n",
            "- Password should contain at least one uppercase letter.\n",
            "- Password should contain at least one digit.\n",
            "- Password should contain at least one special character (@, $, !, %, *, ?, & or #).\n"
          ]
        }
      ],
      "source": [
        "def caesar_cipher(text, shift):\n",
        "    result = \"\"\n",
        "\n",
        "    for i in range(len(text)):\n",
        "        char = text[i]\n",
        "\n",
        "        if char.isupper():\n",
        "            result += chr((ord(char) + shift - 65) % 26 + 65)\n",
        "\n",
        "\n",
        "        elif char.islower():\n",
        "            result += chr((ord(char) + shift - 97) % 26 + 97)\n",
        "        else:\n",
        "            result += char\n",
        "\n",
        "    return result\n",
        "\n",
        "\n",
        "text = input(\"Enter the Text \")\n",
        "shift = 3\n",
        "encrypted_text = caesar_cipher(text, shift)\n",
        "print(\"Encrypted text:\", encrypted_text)\n"
      ]
    }
  ]
}