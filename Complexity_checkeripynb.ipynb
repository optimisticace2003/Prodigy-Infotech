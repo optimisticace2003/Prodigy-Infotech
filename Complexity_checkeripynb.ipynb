{
  "nbformat": 4,
  "nbformat_minor": 0,
  "metadata": {
    "colab": {
      "provenance": [],
      "authorship_tag": "ABX9TyN0uKhTQU3n+qE8i+a73fu1",
      "include_colab_link": true
    },
    "kernelspec": {
      "name": "python3",
      "display_name": "Python 3"
    },
    "language_info": {
      "name": "python"
    }
  },
  "cells": [
    {
      "cell_type": "markdown",
      "metadata": {
        "id": "view-in-github",
        "colab_type": "text"
      },
      "source": [
        "<a href=\"https://colab.research.google.com/github/optimisticace2003/Prodigy-Infotech/blob/main/Complexity_checkeripynb.ipynb\" target=\"_parent\"><img src=\"https://colab.research.google.com/assets/colab-badge.svg\" alt=\"Open In Colab\"/></a>"
      ]
    },
    {
      "cell_type": "code",
      "execution_count": null,
      "metadata": {
        "colab": {
          "base_uri": "https://localhost:8080/"
        },
        "id": "8kzXrGDFOsFS",
        "outputId": "c636d04d-abda-41ac-98a3-3ebe3761a373"
      },
      "outputs": [
        {
          "output_type": "stream",
          "name": "stdout",
          "text": [
            "Enter your password: Text@123\n",
            "Password Strength: Very Strong\n",
            "Feedback:\n",
            "- Your password meets all the criteria. Great job!\n"
          ]
        }
      ],
      "source": [
        "import re\n",
        "\n",
        "def check_password_strength(password):\n",
        "\n",
        "    length_criteria = len(password) >= 8\n",
        "    uppercase_criteria = bool(re.search(r'[A-Z]', password))\n",
        "    lowercase_criteria = bool(re.search(r'[a-z]', password))\n",
        "    digit_criteria = bool(re.search(r'[0-9]', password))\n",
        "    special_char_criteria = bool(re.search(r'[@$!%*?&#]', password))\n",
        "\n",
        "    strength_score = sum([length_criteria, uppercase_criteria, lowercase_criteria, digit_criteria, special_char_criteria])\n",
        "\n",
        "\n",
        "    if strength_score == 5:\n",
        "        strength = \"Very Strong\"\n",
        "        feedback = [\"Your password meets all the criteria. Great job!\"]\n",
        "    elif strength_score == 4:\n",
        "        strength = \"Strong\"\n",
        "        feedback = [\"Your password is strong, but it could be improved.\"]\n",
        "    elif strength_score == 3:\n",
        "        strength = \"Moderate\"\n",
        "        feedback = [\"Your password is moderate. Consider improving its complexity.\"]\n",
        "    elif strength_score == 2:\n",
        "        strength = \"Weak\"\n",
        "        feedback = [\"Your password is weak. You should add more complexity.\"]\n",
        "    else:\n",
        "        strength = \"Very Weak\"\n",
        "        feedback = [\"Your password is very weak. It is highly recommended to change it.\"]\n",
        "\n",
        "    if not length_criteria:\n",
        "        feedback.append(\"Password should be at least 8 characters long.\")\n",
        "    if not uppercase_criteria:\n",
        "        feedback.append(\"Password should contain at least one uppercase letter.\")\n",
        "    if not lowercase_criteria:\n",
        "        feedback.append(\"Password should contain at least one lowercase letter.\")\n",
        "    if not digit_criteria:\n",
        "        feedback.append(\"Password should contain at least one digit.\")\n",
        "    if not special_char_criteria:\n",
        "        feedback.append(\"Password should contain at least one special character (@, $, !, %, *, ?, & or #).\")\n",
        "\n",
        "    return strength, feedback\n",
        "\n",
        "\n",
        "password = input(\"Enter your password: \")\n",
        "strength, feedback = check_password_strength(password)\n",
        "\n",
        "print(f\"Password Strength: {strength}\")\n",
        "if feedback:\n",
        "    print(\"Feedback:\")\n",
        "    for item in feedback:\n",
        "        print(f\"- {item}\")\n",
        "\n"
      ]
    },
    {
      "cell_type": "code",
      "source": [],
      "metadata": {
        "id": "y2m9IKvoQdQK"
      },
      "execution_count": null,
      "outputs": []
    }
  ]
}