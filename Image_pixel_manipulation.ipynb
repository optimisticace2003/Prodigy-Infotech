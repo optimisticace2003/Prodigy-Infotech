{
  "nbformat": 4,
  "nbformat_minor": 0,
  "metadata": {
    "colab": {
      "provenance": [],
      "authorship_tag": "ABX9TyMsVcz6sx59wFgku4B13oVD",
      "include_colab_link": true
    },
    "kernelspec": {
      "name": "python3",
      "display_name": "Python 3"
    },
    "language_info": {
      "name": "python"
    }
  },
  "cells": [
    {
      "cell_type": "markdown",
      "metadata": {
        "id": "view-in-github",
        "colab_type": "text"
      },
      "source": [
        "<a href=\"https://colab.research.google.com/github/optimisticace2003/Prodigy-Infotech/blob/main/Image_pixel_manipulation.ipynb\" target=\"_parent\"><img src=\"https://colab.research.google.com/assets/colab-badge.svg\" alt=\"Open In Colab\"/></a>"
      ]
    },
    {
      "cell_type": "code",
      "execution_count": null,
      "metadata": {
        "colab": {
          "base_uri": "https://localhost:8080/"
        },
        "id": "zgxbKXV42LaI",
        "outputId": "c5a5105c-c866-47ba-a7e7-b8b6d699f157"
      },
      "outputs": [
        {
          "output_type": "stream",
          "name": "stdout",
          "text": [
            "Image encrypted and saved to /content/encrypted_image.png\n",
            "Image decrypted and saved to /content/decrypted_image.png\n"
          ]
        }
      ],
      "source": [
        "from PIL import Image\n",
        "import numpy as np\n",
        "\n",
        "def encrypt_image(image_path, key, output_path):\n",
        "\n",
        "\n",
        "    image = Image.open(image_path)\n",
        "    image_data = np.array(image)\n",
        "\n",
        "    encrypted_data = (image_data + key) % 256\n",
        "\n",
        "\n",
        "    encrypted_image = Image.fromarray(np.uint8(encrypted_data))\n",
        "\n",
        "\n",
        "    encrypted_image.save(output_path)\n",
        "    print(f\"Image encrypted and saved to {output_path}\")\n",
        "\n",
        "def decrypt_image(encrypted_image_path, key, output_path):\n",
        "\n",
        "\n",
        "    encrypted_image = Image.open(encrypted_image_path)\n",
        "\n",
        "    encrypted_data = np.array(encrypted_image)\n",
        "\n",
        "    decrypted_data = (encrypted_data - key) % 256\n",
        "\n",
        "    decrypted_image = Image.fromarray(np.uint8(decrypted_data))\n",
        "\n",
        "    decrypted_image.save(output_path)\n",
        "    print(f\"Image decrypted and saved to {output_path}\")\n",
        "\n",
        "if __name__ == \"__main__\":\n",
        "    original_image_path = \"/content/istockphoto-2154343111-2048x2048.jpg\"\n",
        "    encrypted_image_path = \"/content/encrypted_image.png\"\n",
        "    decrypted_image_path = \"/content/decrypted_image.png\"\n",
        "    key = 50\n",
        "\n",
        "\n",
        "    encrypt_image(original_image_path, key, encrypted_image_path)\n",
        "\n",
        "    decrypt_image(encrypted_image_path, key, decrypted_image_path)\n"
      ]
    }
  ]
}