{
  "nbformat": 4,
  "nbformat_minor": 0,
  "metadata": {
    "colab": {
      "provenance": [],
      "authorship_tag": "ABX9TyNMvkPdDNsWsrmEmGBEoDVW",
      "include_colab_link": true
    },
    "kernelspec": {
      "name": "python3",
      "display_name": "Python 3"
    },
    "language_info": {
      "name": "python"
    }
  },
  "cells": [
    {
      "cell_type": "markdown",
      "metadata": {
        "id": "view-in-github",
        "colab_type": "text"
      },
      "source": [
        "<a href=\"https://colab.research.google.com/github/optimisticace2003/Prodigy-Infotech/blob/main/Packet_Sniffer.ipynb\" target=\"_parent\"><img src=\"https://colab.research.google.com/assets/colab-badge.svg\" alt=\"Open In Colab\"/></a>"
      ]
    },
    {
      "cell_type": "code",
      "execution_count": 3,
      "metadata": {
        "id": "DHRMUZp-qKGS"
      },
      "outputs": [],
      "source": [
        "pip install scapy\n",
        "#INSTALL THE REQUIREMENT ---------------------------------------------------------------------"
      ]
    },
    {
      "cell_type": "code",
      "source": [
        "# CAN ONLY BE EXECUTED THROUGH CMD-----------------------------------------------------------------------\n",
        "\n",
        "from scapy.all import sniff, IP, TCP, UDP, Raw\n",
        "\n",
        "def packet_callback(packet):\n",
        "    \"\"\"Callback function to process each captured packet.\"\"\"\n",
        "    if IP in packet:\n",
        "        ip_src = packet[IP].src\n",
        "        ip_dst = packet[IP].dst\n",
        "        protocol = packet[IP].proto\n",
        "\n",
        "        # Display information about the packet\n",
        "        print(f\"Source IP: {ip_src}\")\n",
        "        print(f\"Destination IP: {ip_dst}\")\n",
        "        print(f\"Protocol: {protocol}\")\n",
        "\n",
        "        # Display the payload if available\n",
        "        if Raw in packet:\n",
        "            payload = packet[Raw].load\n",
        "            print(f\"Payload: {payload}\")\n",
        "        else:\n",
        "            print(\"Payload: None\")\n",
        "\n",
        "        print(\"-\" * 40)\n",
        "\n",
        "def start_sniffing(interface=None):\n",
        "    \"\"\"Start sniffing packets on the specified network interface.\"\"\"\n",
        "    print(\"Starting packet sniffing...\")\n",
        "    sniff(iface=interface, prn=packet_callback, store=0)\n",
        "\n",
        "if __name__ == \"__main__\":\n",
        "    # Optional: specify the network interface, e.g., 'eth0' or 'wlan0'\n",
        "    network_interface = None\n",
        "    start_sniffing(network_interface)\n"
      ],
      "metadata": {
        "id": "zT3U_2vfxKVs"
      },
      "execution_count": 4,
      "outputs": []
    }
  ]
}